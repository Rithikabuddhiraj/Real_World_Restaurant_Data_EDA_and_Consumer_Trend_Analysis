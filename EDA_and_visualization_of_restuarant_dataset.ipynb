{
  "nbformat": 4,
  "nbformat_minor": 0,
  "metadata": {
    "colab": {
      "provenance": []
    },
    "kernelspec": {
      "name": "python3",
      "display_name": "Python 3"
    },
    "language_info": {
      "name": "python"
    }
  },
  "cells": [
    {
      "cell_type": "code",
      "execution_count": null,
      "metadata": {
        "id": "eMTXQxWtTs35"
      },
      "outputs": [],
      "source": [
        "import pandas as pd\n",
        "import numpy as np\n",
        "import matplotlib.pyplot as plt\n",
        "import seaborn as sns"
      ]
    },
    {
      "cell_type": "code",
      "source": [
        "data=pd.read_csv(\"/content/Data.csv\")"
      ],
      "metadata": {
        "id": "kQ1zKCihT_KT"
      },
      "execution_count": null,
      "outputs": []
    },
    {
      "cell_type": "code",
      "source": [
        "data.head()"
      ],
      "metadata": {
        "colab": {
          "base_uri": "https://localhost:8080/",
          "height": 310
        },
        "id": "8IpowPQ9UECy",
        "outputId": "8ddeb531-905b-406a-8216-4769d951bcbd"
      },
      "execution_count": null,
      "outputs": [
        {
          "output_type": "execute_result",
          "data": {
            "text/plain": [
              "         Date            Timestamp  Invoice No.             Item Name  Price  \\\n",
              "0  2023-09-19  2023-09-19 22:03:44        28389                Kulcha   55.0   \n",
              "1  2023-09-19  2023-09-19 22:03:44        28389                Parota   30.0   \n",
              "2  2023-09-19  2023-09-19 22:03:44        28389       Mushroom Masala  150.0   \n",
              "3  2023-09-19  2023-09-19 22:03:44        28389  Paneer Butter Masala  150.0   \n",
              "4  2023-09-19  2023-09-19 22:03:44        28389              Gobi- 65  120.0   \n",
              "\n",
              "   Qty.  Sub Total  Discount   Tax  Final Total  Table No. Server Name  \\\n",
              "0   1.0       55.0       0.0  2.76        57.76         16      biller   \n",
              "1   4.0      120.0       0.0  6.00       126.00         16      biller   \n",
              "2   1.0      150.0       0.0  7.50       157.50         16      biller   \n",
              "3   1.0      150.0       0.0  7.50       157.50         16      biller   \n",
              "4   1.0      120.0       0.0  6.00       126.00         16      biller   \n",
              "\n",
              "   Covers Variation       Category  HSN  \n",
              "0       0       NaN  Indian Breads  NaN  \n",
              "1       0       NaN  Indian Breads  NaN  \n",
              "2       0       NaN      Veg Gravy  NaN  \n",
              "3       0       NaN      Veg Gravy  NaN  \n",
              "4       0       NaN   Veg Starters  NaN  "
            ],
            "text/html": [
              "\n",
              "  <div id=\"df-7efd261e-7d98-4e47-b816-f800c00a5d72\" class=\"colab-df-container\">\n",
              "    <div>\n",
              "<style scoped>\n",
              "    .dataframe tbody tr th:only-of-type {\n",
              "        vertical-align: middle;\n",
              "    }\n",
              "\n",
              "    .dataframe tbody tr th {\n",
              "        vertical-align: top;\n",
              "    }\n",
              "\n",
              "    .dataframe thead th {\n",
              "        text-align: right;\n",
              "    }\n",
              "</style>\n",
              "<table border=\"1\" class=\"dataframe\">\n",
              "  <thead>\n",
              "    <tr style=\"text-align: right;\">\n",
              "      <th></th>\n",
              "      <th>Date</th>\n",
              "      <th>Timestamp</th>\n",
              "      <th>Invoice No.</th>\n",
              "      <th>Item Name</th>\n",
              "      <th>Price</th>\n",
              "      <th>Qty.</th>\n",
              "      <th>Sub Total</th>\n",
              "      <th>Discount</th>\n",
              "      <th>Tax</th>\n",
              "      <th>Final Total</th>\n",
              "      <th>Table No.</th>\n",
              "      <th>Server Name</th>\n",
              "      <th>Covers</th>\n",
              "      <th>Variation</th>\n",
              "      <th>Category</th>\n",
              "      <th>HSN</th>\n",
              "    </tr>\n",
              "  </thead>\n",
              "  <tbody>\n",
              "    <tr>\n",
              "      <th>0</th>\n",
              "      <td>2023-09-19</td>\n",
              "      <td>2023-09-19 22:03:44</td>\n",
              "      <td>28389</td>\n",
              "      <td>Kulcha</td>\n",
              "      <td>55.0</td>\n",
              "      <td>1.0</td>\n",
              "      <td>55.0</td>\n",
              "      <td>0.0</td>\n",
              "      <td>2.76</td>\n",
              "      <td>57.76</td>\n",
              "      <td>16</td>\n",
              "      <td>biller</td>\n",
              "      <td>0</td>\n",
              "      <td>NaN</td>\n",
              "      <td>Indian Breads</td>\n",
              "      <td>NaN</td>\n",
              "    </tr>\n",
              "    <tr>\n",
              "      <th>1</th>\n",
              "      <td>2023-09-19</td>\n",
              "      <td>2023-09-19 22:03:44</td>\n",
              "      <td>28389</td>\n",
              "      <td>Parota</td>\n",
              "      <td>30.0</td>\n",
              "      <td>4.0</td>\n",
              "      <td>120.0</td>\n",
              "      <td>0.0</td>\n",
              "      <td>6.00</td>\n",
              "      <td>126.00</td>\n",
              "      <td>16</td>\n",
              "      <td>biller</td>\n",
              "      <td>0</td>\n",
              "      <td>NaN</td>\n",
              "      <td>Indian Breads</td>\n",
              "      <td>NaN</td>\n",
              "    </tr>\n",
              "    <tr>\n",
              "      <th>2</th>\n",
              "      <td>2023-09-19</td>\n",
              "      <td>2023-09-19 22:03:44</td>\n",
              "      <td>28389</td>\n",
              "      <td>Mushroom Masala</td>\n",
              "      <td>150.0</td>\n",
              "      <td>1.0</td>\n",
              "      <td>150.0</td>\n",
              "      <td>0.0</td>\n",
              "      <td>7.50</td>\n",
              "      <td>157.50</td>\n",
              "      <td>16</td>\n",
              "      <td>biller</td>\n",
              "      <td>0</td>\n",
              "      <td>NaN</td>\n",
              "      <td>Veg Gravy</td>\n",
              "      <td>NaN</td>\n",
              "    </tr>\n",
              "    <tr>\n",
              "      <th>3</th>\n",
              "      <td>2023-09-19</td>\n",
              "      <td>2023-09-19 22:03:44</td>\n",
              "      <td>28389</td>\n",
              "      <td>Paneer Butter Masala</td>\n",
              "      <td>150.0</td>\n",
              "      <td>1.0</td>\n",
              "      <td>150.0</td>\n",
              "      <td>0.0</td>\n",
              "      <td>7.50</td>\n",
              "      <td>157.50</td>\n",
              "      <td>16</td>\n",
              "      <td>biller</td>\n",
              "      <td>0</td>\n",
              "      <td>NaN</td>\n",
              "      <td>Veg Gravy</td>\n",
              "      <td>NaN</td>\n",
              "    </tr>\n",
              "    <tr>\n",
              "      <th>4</th>\n",
              "      <td>2023-09-19</td>\n",
              "      <td>2023-09-19 22:03:44</td>\n",
              "      <td>28389</td>\n",
              "      <td>Gobi- 65</td>\n",
              "      <td>120.0</td>\n",
              "      <td>1.0</td>\n",
              "      <td>120.0</td>\n",
              "      <td>0.0</td>\n",
              "      <td>6.00</td>\n",
              "      <td>126.00</td>\n",
              "      <td>16</td>\n",
              "      <td>biller</td>\n",
              "      <td>0</td>\n",
              "      <td>NaN</td>\n",
              "      <td>Veg Starters</td>\n",
              "      <td>NaN</td>\n",
              "    </tr>\n",
              "  </tbody>\n",
              "</table>\n",
              "</div>\n",
              "    <div class=\"colab-df-buttons\">\n",
              "\n",
              "  <div class=\"colab-df-container\">\n",
              "    <button class=\"colab-df-convert\" onclick=\"convertToInteractive('df-7efd261e-7d98-4e47-b816-f800c00a5d72')\"\n",
              "            title=\"Convert this dataframe to an interactive table.\"\n",
              "            style=\"display:none;\">\n",
              "\n",
              "  <svg xmlns=\"http://www.w3.org/2000/svg\" height=\"24px\" viewBox=\"0 -960 960 960\">\n",
              "    <path d=\"M120-120v-720h720v720H120Zm60-500h600v-160H180v160Zm220 220h160v-160H400v160Zm0 220h160v-160H400v160ZM180-400h160v-160H180v160Zm440 0h160v-160H620v160ZM180-180h160v-160H180v160Zm440 0h160v-160H620v160Z\"/>\n",
              "  </svg>\n",
              "    </button>\n",
              "\n",
              "  <style>\n",
              "    .colab-df-container {\n",
              "      display:flex;\n",
              "      gap: 12px;\n",
              "    }\n",
              "\n",
              "    .colab-df-convert {\n",
              "      background-color: #E8F0FE;\n",
              "      border: none;\n",
              "      border-radius: 50%;\n",
              "      cursor: pointer;\n",
              "      display: none;\n",
              "      fill: #1967D2;\n",
              "      height: 32px;\n",
              "      padding: 0 0 0 0;\n",
              "      width: 32px;\n",
              "    }\n",
              "\n",
              "    .colab-df-convert:hover {\n",
              "      background-color: #E2EBFA;\n",
              "      box-shadow: 0px 1px 2px rgba(60, 64, 67, 0.3), 0px 1px 3px 1px rgba(60, 64, 67, 0.15);\n",
              "      fill: #174EA6;\n",
              "    }\n",
              "\n",
              "    .colab-df-buttons div {\n",
              "      margin-bottom: 4px;\n",
              "    }\n",
              "\n",
              "    [theme=dark] .colab-df-convert {\n",
              "      background-color: #3B4455;\n",
              "      fill: #D2E3FC;\n",
              "    }\n",
              "\n",
              "    [theme=dark] .colab-df-convert:hover {\n",
              "      background-color: #434B5C;\n",
              "      box-shadow: 0px 1px 3px 1px rgba(0, 0, 0, 0.15);\n",
              "      filter: drop-shadow(0px 1px 2px rgba(0, 0, 0, 0.3));\n",
              "      fill: #FFFFFF;\n",
              "    }\n",
              "  </style>\n",
              "\n",
              "    <script>\n",
              "      const buttonEl =\n",
              "        document.querySelector('#df-7efd261e-7d98-4e47-b816-f800c00a5d72 button.colab-df-convert');\n",
              "      buttonEl.style.display =\n",
              "        google.colab.kernel.accessAllowed ? 'block' : 'none';\n",
              "\n",
              "      async function convertToInteractive(key) {\n",
              "        const element = document.querySelector('#df-7efd261e-7d98-4e47-b816-f800c00a5d72');\n",
              "        const dataTable =\n",
              "          await google.colab.kernel.invokeFunction('convertToInteractive',\n",
              "                                                    [key], {});\n",
              "        if (!dataTable) return;\n",
              "\n",
              "        const docLinkHtml = 'Like what you see? Visit the ' +\n",
              "          '<a target=\"_blank\" href=https://colab.research.google.com/notebooks/data_table.ipynb>data table notebook</a>'\n",
              "          + ' to learn more about interactive tables.';\n",
              "        element.innerHTML = '';\n",
              "        dataTable['output_type'] = 'display_data';\n",
              "        await google.colab.output.renderOutput(dataTable, element);\n",
              "        const docLink = document.createElement('div');\n",
              "        docLink.innerHTML = docLinkHtml;\n",
              "        element.appendChild(docLink);\n",
              "      }\n",
              "    </script>\n",
              "  </div>\n",
              "\n",
              "\n",
              "    <div id=\"df-9bd3aaa5-e2ac-4431-b665-89bb2aeaa271\">\n",
              "      <button class=\"colab-df-quickchart\" onclick=\"quickchart('df-9bd3aaa5-e2ac-4431-b665-89bb2aeaa271')\"\n",
              "                title=\"Suggest charts\"\n",
              "                style=\"display:none;\">\n",
              "\n",
              "<svg xmlns=\"http://www.w3.org/2000/svg\" height=\"24px\"viewBox=\"0 0 24 24\"\n",
              "     width=\"24px\">\n",
              "    <g>\n",
              "        <path d=\"M19 3H5c-1.1 0-2 .9-2 2v14c0 1.1.9 2 2 2h14c1.1 0 2-.9 2-2V5c0-1.1-.9-2-2-2zM9 17H7v-7h2v7zm4 0h-2V7h2v10zm4 0h-2v-4h2v4z\"/>\n",
              "    </g>\n",
              "</svg>\n",
              "      </button>\n",
              "\n",
              "<style>\n",
              "  .colab-df-quickchart {\n",
              "      --bg-color: #E8F0FE;\n",
              "      --fill-color: #1967D2;\n",
              "      --hover-bg-color: #E2EBFA;\n",
              "      --hover-fill-color: #174EA6;\n",
              "      --disabled-fill-color: #AAA;\n",
              "      --disabled-bg-color: #DDD;\n",
              "  }\n",
              "\n",
              "  [theme=dark] .colab-df-quickchart {\n",
              "      --bg-color: #3B4455;\n",
              "      --fill-color: #D2E3FC;\n",
              "      --hover-bg-color: #434B5C;\n",
              "      --hover-fill-color: #FFFFFF;\n",
              "      --disabled-bg-color: #3B4455;\n",
              "      --disabled-fill-color: #666;\n",
              "  }\n",
              "\n",
              "  .colab-df-quickchart {\n",
              "    background-color: var(--bg-color);\n",
              "    border: none;\n",
              "    border-radius: 50%;\n",
              "    cursor: pointer;\n",
              "    display: none;\n",
              "    fill: var(--fill-color);\n",
              "    height: 32px;\n",
              "    padding: 0;\n",
              "    width: 32px;\n",
              "  }\n",
              "\n",
              "  .colab-df-quickchart:hover {\n",
              "    background-color: var(--hover-bg-color);\n",
              "    box-shadow: 0 1px 2px rgba(60, 64, 67, 0.3), 0 1px 3px 1px rgba(60, 64, 67, 0.15);\n",
              "    fill: var(--button-hover-fill-color);\n",
              "  }\n",
              "\n",
              "  .colab-df-quickchart-complete:disabled,\n",
              "  .colab-df-quickchart-complete:disabled:hover {\n",
              "    background-color: var(--disabled-bg-color);\n",
              "    fill: var(--disabled-fill-color);\n",
              "    box-shadow: none;\n",
              "  }\n",
              "\n",
              "  .colab-df-spinner {\n",
              "    border: 2px solid var(--fill-color);\n",
              "    border-color: transparent;\n",
              "    border-bottom-color: var(--fill-color);\n",
              "    animation:\n",
              "      spin 1s steps(1) infinite;\n",
              "  }\n",
              "\n",
              "  @keyframes spin {\n",
              "    0% {\n",
              "      border-color: transparent;\n",
              "      border-bottom-color: var(--fill-color);\n",
              "      border-left-color: var(--fill-color);\n",
              "    }\n",
              "    20% {\n",
              "      border-color: transparent;\n",
              "      border-left-color: var(--fill-color);\n",
              "      border-top-color: var(--fill-color);\n",
              "    }\n",
              "    30% {\n",
              "      border-color: transparent;\n",
              "      border-left-color: var(--fill-color);\n",
              "      border-top-color: var(--fill-color);\n",
              "      border-right-color: var(--fill-color);\n",
              "    }\n",
              "    40% {\n",
              "      border-color: transparent;\n",
              "      border-right-color: var(--fill-color);\n",
              "      border-top-color: var(--fill-color);\n",
              "    }\n",
              "    60% {\n",
              "      border-color: transparent;\n",
              "      border-right-color: var(--fill-color);\n",
              "    }\n",
              "    80% {\n",
              "      border-color: transparent;\n",
              "      border-right-color: var(--fill-color);\n",
              "      border-bottom-color: var(--fill-color);\n",
              "    }\n",
              "    90% {\n",
              "      border-color: transparent;\n",
              "      border-bottom-color: var(--fill-color);\n",
              "    }\n",
              "  }\n",
              "</style>\n",
              "\n",
              "      <script>\n",
              "        async function quickchart(key) {\n",
              "          const quickchartButtonEl =\n",
              "            document.querySelector('#' + key + ' button');\n",
              "          quickchartButtonEl.disabled = true;  // To prevent multiple clicks.\n",
              "          quickchartButtonEl.classList.add('colab-df-spinner');\n",
              "          try {\n",
              "            const charts = await google.colab.kernel.invokeFunction(\n",
              "                'suggestCharts', [key], {});\n",
              "          } catch (error) {\n",
              "            console.error('Error during call to suggestCharts:', error);\n",
              "          }\n",
              "          quickchartButtonEl.classList.remove('colab-df-spinner');\n",
              "          quickchartButtonEl.classList.add('colab-df-quickchart-complete');\n",
              "        }\n",
              "        (() => {\n",
              "          let quickchartButtonEl =\n",
              "            document.querySelector('#df-9bd3aaa5-e2ac-4431-b665-89bb2aeaa271 button');\n",
              "          quickchartButtonEl.style.display =\n",
              "            google.colab.kernel.accessAllowed ? 'block' : 'none';\n",
              "        })();\n",
              "      </script>\n",
              "    </div>\n",
              "\n",
              "    </div>\n",
              "  </div>\n"
            ],
            "application/vnd.google.colaboratory.intrinsic+json": {
              "type": "dataframe",
              "variable_name": "data",
              "summary": "{\n  \"name\": \"data\",\n  \"rows\": 7242,\n  \"fields\": [\n    {\n      \"column\": \"Date\",\n      \"properties\": {\n        \"dtype\": \"object\",\n        \"num_unique_values\": 80,\n        \"samples\": [\n          \"2023-08-20\",\n          \"2023-09-19\",\n          \"2023-08-28\"\n        ],\n        \"semantic_type\": \"\",\n        \"description\": \"\"\n      }\n    },\n    {\n      \"column\": \"Timestamp\",\n      \"properties\": {\n        \"dtype\": \"object\",\n        \"num_unique_values\": 2199,\n        \"samples\": [\n          \"2023-09-06 22:09:18\",\n          \"2023-08-13 20:11:03\",\n          \"2023-09-08 19:26:16\"\n        ],\n        \"semantic_type\": \"\",\n        \"description\": \"\"\n      }\n    },\n    {\n      \"column\": \"Invoice No.\",\n      \"properties\": {\n        \"dtype\": \"number\",\n        \"std\": 613,\n        \"min\": 26191,\n        \"max\": 28389,\n        \"num_unique_values\": 2199,\n        \"samples\": [\n          27962,\n          27261,\n          28022\n        ],\n        \"semantic_type\": \"\",\n        \"description\": \"\"\n      }\n    },\n    {\n      \"column\": \"Item Name\",\n      \"properties\": {\n        \"dtype\": \"category\",\n        \"num_unique_values\": 249,\n        \"samples\": [\n          \"Schewan Egg Noodle\",\n          \"Chilly Fish Dry\",\n          \"Masala Omelet (two Eggs\"\n        ],\n        \"semantic_type\": \"\",\n        \"description\": \"\"\n      }\n    },\n    {\n      \"column\": \"Price\",\n      \"properties\": {\n        \"dtype\": \"number\",\n        \"std\": 61.39345337006231,\n        \"min\": 20.0,\n        \"max\": 399.0,\n        \"num_unique_values\": 31,\n        \"samples\": [\n          250.0,\n          90.0,\n          109.0\n        ],\n        \"semantic_type\": \"\",\n        \"description\": \"\"\n      }\n    },\n    {\n      \"column\": \"Qty.\",\n      \"properties\": {\n        \"dtype\": \"number\",\n        \"std\": 0.9483740833799866,\n        \"min\": 1.0,\n        \"max\": 19.0,\n        \"num_unique_values\": 14,\n        \"samples\": [\n          8.0,\n          19.0,\n          1.0\n        ],\n        \"semantic_type\": \"\",\n        \"description\": \"\"\n      }\n    },\n    {\n      \"column\": \"Sub Total\",\n      \"properties\": {\n        \"dtype\": \"number\",\n        \"std\": 134.13644166391998,\n        \"min\": 20.0,\n        \"max\": 3781.0,\n        \"num_unique_values\": 92,\n        \"samples\": [\n          25.0,\n          180.0,\n          239.0\n        ],\n        \"semantic_type\": \"\",\n        \"description\": \"\"\n      }\n    },\n    {\n      \"column\": \"Discount\",\n      \"properties\": {\n        \"dtype\": \"number\",\n        \"std\": 6.649815120576349,\n        \"min\": 0.0,\n        \"max\": 288.0,\n        \"num_unique_values\": 77,\n        \"samples\": [\n          2.0,\n          19.8,\n          8.0\n        ],\n        \"semantic_type\": \"\",\n        \"description\": \"\"\n      }\n    },\n    {\n      \"column\": \"Tax\",\n      \"properties\": {\n        \"dtype\": \"number\",\n        \"std\": 6.6625330716610085,\n        \"min\": 0.9,\n        \"max\": 189.06,\n        \"num_unique_values\": 178,\n        \"samples\": [\n          13.0,\n          4.4,\n          8.88\n        ],\n        \"semantic_type\": \"\",\n        \"description\": \"\"\n      }\n    },\n    {\n      \"column\": \"Final Total\",\n      \"properties\": {\n        \"dtype\": \"number\",\n        \"std\": 139.9137929691451,\n        \"min\": 18.9,\n        \"max\": 3970.06,\n        \"num_unique_values\": 181,\n        \"samples\": [\n          273.0,\n          816.9,\n          491.4\n        ],\n        \"semantic_type\": \"\",\n        \"description\": \"\"\n      }\n    },\n    {\n      \"column\": \"Table No.\",\n      \"properties\": {\n        \"dtype\": \"number\",\n        \"std\": 18,\n        \"min\": 1,\n        \"max\": 50,\n        \"num_unique_values\": 46,\n        \"samples\": [\n          27,\n          49,\n          20\n        ],\n        \"semantic_type\": \"\",\n        \"description\": \"\"\n      }\n    },\n    {\n      \"column\": \"Server Name\",\n      \"properties\": {\n        \"dtype\": \"category\",\n        \"num_unique_values\": 1,\n        \"samples\": [\n          \"biller\"\n        ],\n        \"semantic_type\": \"\",\n        \"description\": \"\"\n      }\n    },\n    {\n      \"column\": \"Covers\",\n      \"properties\": {\n        \"dtype\": \"number\",\n        \"std\": 0,\n        \"min\": 0,\n        \"max\": 0,\n        \"num_unique_values\": 1,\n        \"samples\": [\n          0\n        ],\n        \"semantic_type\": \"\",\n        \"description\": \"\"\n      }\n    },\n    {\n      \"column\": \"Variation\",\n      \"properties\": {\n        \"dtype\": \"category\",\n        \"num_unique_values\": 3,\n        \"samples\": [\n          \"Mushroom\"\n        ],\n        \"semantic_type\": \"\",\n        \"description\": \"\"\n      }\n    },\n    {\n      \"column\": \"Category\",\n      \"properties\": {\n        \"dtype\": \"category\",\n        \"num_unique_values\": 15,\n        \"samples\": [\n          \"Non Veg Soup\"\n        ],\n        \"semantic_type\": \"\",\n        \"description\": \"\"\n      }\n    },\n    {\n      \"column\": \"HSN\",\n      \"properties\": {\n        \"dtype\": \"number\",\n        \"std\": null,\n        \"min\": null,\n        \"max\": null,\n        \"num_unique_values\": 0,\n        \"samples\": [],\n        \"semantic_type\": \"\",\n        \"description\": \"\"\n      }\n    }\n  ]\n}"
            }
          },
          "metadata": {},
          "execution_count": 3
        }
      ]
    },
    {
      "cell_type": "code",
      "source": [
        "#avg sales and then highest"
      ],
      "metadata": {
        "id": "zsSy_Q0NUGuq"
      },
      "execution_count": null,
      "outputs": []
    },
    {
      "cell_type": "code",
      "source": [
        "dates=data.groupby('Date')['Final Total'].mean().sort_values(ascending=False)\n",
        "dates\n"
      ],
      "metadata": {
        "colab": {
          "base_uri": "https://localhost:8080/",
          "height": 489
        },
        "id": "X3o5olTuUhWf",
        "outputId": "aee25845-a28c-42d8-e2c9-510eae541c1c"
      },
      "execution_count": null,
      "outputs": [
        {
          "output_type": "execute_result",
          "data": {
            "text/plain": [
              "Date\n",
              "2023-07-19    319.837857\n",
              "2023-07-17    270.496410\n",
              "2023-07-15    247.183810\n",
              "2023-07-21    240.761176\n",
              "2023-07-11    235.608519\n",
              "                 ...    \n",
              "2023-09-14    127.006889\n",
              "2023-07-02    126.681354\n",
              "2023-09-04    125.935918\n",
              "2023-07-03    125.927442\n",
              "2023-08-29    125.158305\n",
              "Name: Final Total, Length: 80, dtype: float64"
            ],
            "text/html": [
              "<div>\n",
              "<style scoped>\n",
              "    .dataframe tbody tr th:only-of-type {\n",
              "        vertical-align: middle;\n",
              "    }\n",
              "\n",
              "    .dataframe tbody tr th {\n",
              "        vertical-align: top;\n",
              "    }\n",
              "\n",
              "    .dataframe thead th {\n",
              "        text-align: right;\n",
              "    }\n",
              "</style>\n",
              "<table border=\"1\" class=\"dataframe\">\n",
              "  <thead>\n",
              "    <tr style=\"text-align: right;\">\n",
              "      <th></th>\n",
              "      <th>Final Total</th>\n",
              "    </tr>\n",
              "    <tr>\n",
              "      <th>Date</th>\n",
              "      <th></th>\n",
              "    </tr>\n",
              "  </thead>\n",
              "  <tbody>\n",
              "    <tr>\n",
              "      <th>2023-07-19</th>\n",
              "      <td>319.837857</td>\n",
              "    </tr>\n",
              "    <tr>\n",
              "      <th>2023-07-17</th>\n",
              "      <td>270.496410</td>\n",
              "    </tr>\n",
              "    <tr>\n",
              "      <th>2023-07-15</th>\n",
              "      <td>247.183810</td>\n",
              "    </tr>\n",
              "    <tr>\n",
              "      <th>2023-07-21</th>\n",
              "      <td>240.761176</td>\n",
              "    </tr>\n",
              "    <tr>\n",
              "      <th>2023-07-11</th>\n",
              "      <td>235.608519</td>\n",
              "    </tr>\n",
              "    <tr>\n",
              "      <th>...</th>\n",
              "      <td>...</td>\n",
              "    </tr>\n",
              "    <tr>\n",
              "      <th>2023-09-14</th>\n",
              "      <td>127.006889</td>\n",
              "    </tr>\n",
              "    <tr>\n",
              "      <th>2023-07-02</th>\n",
              "      <td>126.681354</td>\n",
              "    </tr>\n",
              "    <tr>\n",
              "      <th>2023-09-04</th>\n",
              "      <td>125.935918</td>\n",
              "    </tr>\n",
              "    <tr>\n",
              "      <th>2023-07-03</th>\n",
              "      <td>125.927442</td>\n",
              "    </tr>\n",
              "    <tr>\n",
              "      <th>2023-08-29</th>\n",
              "      <td>125.158305</td>\n",
              "    </tr>\n",
              "  </tbody>\n",
              "</table>\n",
              "<p>80 rows × 1 columns</p>\n",
              "</div><br><label><b>dtype:</b> float64</label>"
            ]
          },
          "metadata": {},
          "execution_count": 9
        }
      ]
    },
    {
      "cell_type": "code",
      "source": [
        "#how many total bills are there\n",
        "total_bills=data.groupby('Invoice No.')['Invoice No.'].count()\n",
        "total_bills\n",
        "print(len(total_bills))"
      ],
      "metadata": {
        "colab": {
          "base_uri": "https://localhost:8080/"
        },
        "id": "W_6vrWYYVfOc",
        "outputId": "252b0eac-bd2b-4fe7-ba56-ab2c06a76c25"
      },
      "execution_count": null,
      "outputs": [
        {
          "output_type": "stream",
          "name": "stdout",
          "text": [
            "2199\n"
          ]
        }
      ]
    },
    {
      "cell_type": "code",
      "source": [
        "#or use nunique\n",
        "unique_count=data['Invoice No.'].nunique()\n",
        "unique_count"
      ],
      "metadata": {
        "colab": {
          "base_uri": "https://localhost:8080/"
        },
        "id": "AJRaK63KXB1o",
        "outputId": "cc6d62fb-db27-406d-f4af-187f9cfd79af"
      },
      "execution_count": null,
      "outputs": [
        {
          "output_type": "execute_result",
          "data": {
            "text/plain": [
              "2199"
            ]
          },
          "metadata": {},
          "execution_count": 14
        }
      ]
    },
    {
      "cell_type": "code",
      "source": [
        "#september month top sale\n",
        "sold_items=data[(data['Date']>='2023-09-01') & (data['Date']<='2023-09-30')]\n",
        "top_sale=sold_items.groupby('Item Name')['Qty.'].sum().sort_values(ascending=False).head(1)\n",
        "top_sale"
      ],
      "metadata": {
        "colab": {
          "base_uri": "https://localhost:8080/",
          "height": 146
        },
        "id": "cs3_GAIjYRAR",
        "outputId": "b681f9e1-cbcb-48bf-9322-9b11a4292eb5"
      },
      "execution_count": null,
      "outputs": [
        {
          "output_type": "execute_result",
          "data": {
            "text/plain": [
              "Item Name\n",
              "Chicken Biriyani With Raitha And Gravy    268.0\n",
              "Name: Qty., dtype: float64"
            ],
            "text/html": [
              "<div>\n",
              "<style scoped>\n",
              "    .dataframe tbody tr th:only-of-type {\n",
              "        vertical-align: middle;\n",
              "    }\n",
              "\n",
              "    .dataframe tbody tr th {\n",
              "        vertical-align: top;\n",
              "    }\n",
              "\n",
              "    .dataframe thead th {\n",
              "        text-align: right;\n",
              "    }\n",
              "</style>\n",
              "<table border=\"1\" class=\"dataframe\">\n",
              "  <thead>\n",
              "    <tr style=\"text-align: right;\">\n",
              "      <th></th>\n",
              "      <th>Qty.</th>\n",
              "    </tr>\n",
              "    <tr>\n",
              "      <th>Item Name</th>\n",
              "      <th></th>\n",
              "    </tr>\n",
              "  </thead>\n",
              "  <tbody>\n",
              "    <tr>\n",
              "      <th>Chicken Biriyani With Raitha And Gravy</th>\n",
              "      <td>268.0</td>\n",
              "    </tr>\n",
              "  </tbody>\n",
              "</table>\n",
              "</div><br><label><b>dtype:</b> float64</label>"
            ]
          },
          "metadata": {},
          "execution_count": 24
        }
      ]
    },
    {
      "cell_type": "code",
      "source": [
        "#july month least sols 3items\n",
        "sold_items1=data[(data['Date']>='2023-07-01') & (data['Date']<='2023-07-30')]\n",
        "least_sold=sold_items1.groupby('Category')['Qty.'].sum().sort_values(ascending=True).head(3)\n",
        "least_sold"
      ],
      "metadata": {
        "colab": {
          "base_uri": "https://localhost:8080/",
          "height": 209
        },
        "id": "UcShtg2yarJ_",
        "outputId": "bcabf308-484d-4c91-c82e-67f79eec06f9"
      },
      "execution_count": null,
      "outputs": [
        {
          "output_type": "execute_result",
          "data": {
            "text/plain": [
              "Category\n",
              "NON VEG STARTERS FISH    47.0\n",
              "NON VEG STARTERS EGG     53.0\n",
              "Veg Soup                 53.0\n",
              "Name: Qty., dtype: float64"
            ],
            "text/html": [
              "<div>\n",
              "<style scoped>\n",
              "    .dataframe tbody tr th:only-of-type {\n",
              "        vertical-align: middle;\n",
              "    }\n",
              "\n",
              "    .dataframe tbody tr th {\n",
              "        vertical-align: top;\n",
              "    }\n",
              "\n",
              "    .dataframe thead th {\n",
              "        text-align: right;\n",
              "    }\n",
              "</style>\n",
              "<table border=\"1\" class=\"dataframe\">\n",
              "  <thead>\n",
              "    <tr style=\"text-align: right;\">\n",
              "      <th></th>\n",
              "      <th>Qty.</th>\n",
              "    </tr>\n",
              "    <tr>\n",
              "      <th>Category</th>\n",
              "      <th></th>\n",
              "    </tr>\n",
              "  </thead>\n",
              "  <tbody>\n",
              "    <tr>\n",
              "      <th>NON VEG STARTERS FISH</th>\n",
              "      <td>47.0</td>\n",
              "    </tr>\n",
              "    <tr>\n",
              "      <th>NON VEG STARTERS EGG</th>\n",
              "      <td>53.0</td>\n",
              "    </tr>\n",
              "    <tr>\n",
              "      <th>Veg Soup</th>\n",
              "      <td>53.0</td>\n",
              "    </tr>\n",
              "  </tbody>\n",
              "</table>\n",
              "</div><br><label><b>dtype:</b> float64</label>"
            ]
          },
          "metadata": {},
          "execution_count": 37
        }
      ]
    },
    {
      "cell_type": "code",
      "source": [
        "plt.bar(least_sold.index,least_sold.values)"
      ],
      "metadata": {
        "colab": {
          "base_uri": "https://localhost:8080/",
          "height": 447
        },
        "id": "MIjH60XRbQ3r",
        "outputId": "7da1e827-c2f1-4b47-f62c-60e53250b9c5"
      },
      "execution_count": null,
      "outputs": [
        {
          "output_type": "execute_result",
          "data": {
            "text/plain": [
              "<BarContainer object of 3 artists>"
            ]
          },
          "metadata": {},
          "execution_count": 38
        },
        {
          "output_type": "display_data",
          "data": {
            "text/plain": [
              "<Figure size 640x480 with 1 Axes>"
            ],
            "image/png": "[encoded data removed]"
          },
          "metadata": {}
        }
      ]
    },
    {
      "cell_type": "code",
      "source": [
        "#pie chart for sales by category\n",
        "sales=data.groupby('Category')['Final Total'].sum()\n",
        "print(sales)\n",
        "plt.pie(sales)\n"
      ],
      "metadata": {
        "colab": {
          "base_uri": "https://localhost:8080/",
          "height": 1000
        },
        "id": "lbSF8CUVbd6K",
        "outputId": "484f9cf5-df21-4df9-c72f-dfe5f47e090e"
      },
      "execution_count": null,
      "outputs": [
        {
          "output_type": "stream",
          "name": "stdout",
          "text": [
            "Category\n",
            "Deserts & Mocktails          51517.47\n",
            "Indian Breads               117623.56\n",
            "NON VEG BRIYANI & RICE      379502.88\n",
            "NON VEG STARTERS CHICKEN    190550.96\n",
            "NON VEG STARTERS EGG          7272.36\n",
            "NON VEG STARTERS FISH        37488.48\n",
            "NON VEG STARTERS MUTTON        250.96\n",
            "Non Veg Gravy               122743.76\n",
            "Non Veg Soup                 27721.66\n",
            "Non Veg Tandoor              51633.04\n",
            "Non Veg combos                6857.56\n",
            "VEG BIRYANI & RICE           93072.70\n",
            "Veg Gravy                    54492.10\n",
            "Veg Soup                      9581.88\n",
            "Veg Starters                 57827.22\n",
            "Name: Final Total, dtype: float64\n"
          ]
        },
        {
          "output_type": "execute_result",
          "data": {
            "text/plain": [
              "([<matplotlib.patches.Wedge at 0x7f27415e7110>,\n",
              "  <matplotlib.patches.Wedge at 0x7f2741489150>,\n",
              "  <matplotlib.patches.Wedge at 0x7f274148a390>,\n",
              "  <matplotlib.patches.Wedge at 0x7f274148b390>,\n",
              "  <matplotlib.patches.Wedge at 0x7f2741494550>,\n",
              "  <matplotlib.patches.Wedge at 0x7f27414957d0>,\n",
              "  <matplotlib.patches.Wedge at 0x7f2741496750>,\n",
              "  <matplotlib.patches.Wedge at 0x7f274148a190>,\n",
              "  <matplotlib.patches.Wedge at 0x7f27414a0690>,\n",
              "  <matplotlib.patches.Wedge at 0x7f27414955d0>,\n",
              "  <matplotlib.patches.Wedge at 0x7f27414a2190>,\n",
              "  <matplotlib.patches.Wedge at 0x7f27414a3c50>,\n",
              "  <matplotlib.patches.Wedge at 0x7f27414accd0>,\n",
              "  <matplotlib.patches.Wedge at 0x7f27414adf90>,\n",
              "  <matplotlib.patches.Wedge at 0x7f27414af010>],\n",
              " [Text(1.09014424940389, 0.14692009900496789, ''),\n",
              "  Text(0.9238335181233556, 0.5971026970227347, ''),\n",
              "  Text(-0.32055500779691326, 1.0522568540885449, ''),\n",
              "  Text(-1.076459564631158, -0.22635106740216174, ''),\n",
              "  Text(-0.8257766321051537, -0.7267000439445905, ''),\n",
              "  Text(-0.7357962178533227, -0.8176820444358223, ''),\n",
              "  Text(-0.6521406930442466, -0.8858400061386761, ''),\n",
              "  Text(-0.34055628103040037, -1.0459547884353049, ''),\n",
              "  Text(0.08406318546201783, -1.0967831968306128, ''),\n",
              "  Text(0.306999147172038, -1.056291400909636, ''),\n",
              "  Text(0.4634947905711492, -0.9975833695052292, ''),\n",
              "  Text(0.7042537144225388, -0.8450010093023897, ''),\n",
              "  Text(0.9693853638956355, -0.5198961591173056, ''),\n",
              "  Text(1.0421835670809914, -0.3519281354287279, ''),\n",
              "  Text(1.0875868273780112, -0.1647874173407426, '')])"
            ]
          },
          "metadata": {},
          "execution_count": 34
        },
        {
          "output_type": "display_data",
          "data": {
            "text/plain": [
              "<Figure size 640x480 with 1 Axes>"
            ],
            "image/png": "[encoded data removed]"
          },
          "metadata": {}
        }
      ]
    },
    {
      "cell_type": "code",
      "source": [
        "#what is AOV of the restaurant(average order value)\n",
        "unique_invoises=data['Invoice No.'].nunique()\n",
        "total_sales=data['Final Total'].sum()\n",
        "averege=total_sales/unique_invoises\n",
        "averege"
      ],
      "metadata": {
        "colab": {
          "base_uri": "https://localhost:8080/"
        },
        "id": "b3VmbaxlcVIz",
        "outputId": "2eb461e2-96e9-4463-c403-095406171f6f"
      },
      "execution_count": null,
      "outputs": [
        {
          "output_type": "execute_result",
          "data": {
            "text/plain": [
              "np.float64(549.4027239654388)"
            ]
          },
          "metadata": {},
          "execution_count": 36
        }
      ]
    },
    {
      "cell_type": "code",
      "source": [],
      "metadata": {
        "id": "bzT3syBpdEXc"
      },
      "execution_count": null,
      "outputs": []
    }
  ]
}